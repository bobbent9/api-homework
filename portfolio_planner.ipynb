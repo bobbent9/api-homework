{
 "cells": [
  {
   "cell_type": "code",
   "execution_count": 1,
   "metadata": {},
   "outputs": [],
   "source": [
    "import numpy as np\n",
    "import pandas as pd\n",
    "from datetime import datetime, timedelta\n",
    "import matplotlib.pyplot as plt\n",
    "%matplotlib inline\n",
    "from dotenv import load_dotenv"
   ]
  },
  {
   "cell_type": "code",
   "execution_count": 2,
   "metadata": {},
   "outputs": [],
   "source": [
    "np.random.seed(42)"
   ]
  },
  {
   "cell_type": "markdown",
   "metadata": {},
   "source": [
    "# Portfolio Planner\n",
    "\n",
    "In this activity, you will use the iexfinance api to grab historical data for a 60/40 portfolio using `SPY` to represent the stock portion and `AGG` to represent the bonds."
   ]
  },
  {
   "cell_type": "code",
   "execution_count": 3,
   "metadata": {},
   "outputs": [],
   "source": [
    "import alpaca_trade_api as tradeapi"
   ]
  },
  {
   "cell_type": "markdown",
   "metadata": {},
   "source": [
    "# Data Collection\n",
    "\n",
    "In this step, you will need to use the IEX api to fetch closing prices for the `SPY` and `AGG` tickers. Save the results as a pandas DataFrame"
   ]
  },
  {
   "cell_type": "code",
   "execution_count": 5,
   "metadata": {},
   "outputs": [],
   "source": [
    "list_of_tickers = [\"SPY\", \"AGG\"]\n",
    "# YOUR CODE HERE\n",
    "alpaca_apikey = os.getenv('ALPACA_APIKEY')\n",
    "alpaca_secretkey = os.getenv('ALPACA_SECRETKEY')\n",
    "apirequest = tradeapi.REST(alpaca_apikey, alpaca_secretkey, api_version='v2')"
   ]
  },
  {
   "cell_type": "code",
   "execution_count": 6,
   "metadata": {},
   "outputs": [
    {
     "data": {
      "text/html": [
       "<div>\n",
       "<style scoped>\n",
       "    .dataframe tbody tr th:only-of-type {\n",
       "        vertical-align: middle;\n",
       "    }\n",
       "\n",
       "    .dataframe tbody tr th {\n",
       "        vertical-align: top;\n",
       "    }\n",
       "\n",
       "    .dataframe thead tr th {\n",
       "        text-align: left;\n",
       "    }\n",
       "\n",
       "    .dataframe thead tr:last-of-type th {\n",
       "        text-align: right;\n",
       "    }\n",
       "</style>\n",
       "<table border=\"1\" class=\"dataframe\">\n",
       "  <thead>\n",
       "    <tr>\n",
       "      <th></th>\n",
       "      <th>AGG</th>\n",
       "      <th>SPY</th>\n",
       "    </tr>\n",
       "    <tr>\n",
       "      <th></th>\n",
       "      <th>close</th>\n",
       "      <th>close</th>\n",
       "    </tr>\n",
       "    <tr>\n",
       "      <th>time</th>\n",
       "      <th></th>\n",
       "      <th></th>\n",
       "    </tr>\n",
       "  </thead>\n",
       "  <tbody>\n",
       "    <tr>\n",
       "      <th>2019-12-09 00:00:00-05:00</th>\n",
       "      <td>112.58</td>\n",
       "      <td>313.87</td>\n",
       "    </tr>\n",
       "    <tr>\n",
       "      <th>2019-12-10 00:00:00-05:00</th>\n",
       "      <td>112.54</td>\n",
       "      <td>313.55</td>\n",
       "    </tr>\n",
       "    <tr>\n",
       "      <th>2019-12-11 00:00:00-05:00</th>\n",
       "      <td>112.84</td>\n",
       "      <td>314.41</td>\n",
       "    </tr>\n",
       "    <tr>\n",
       "      <th>2019-12-12 00:00:00-05:00</th>\n",
       "      <td>112.36</td>\n",
       "      <td>317.14</td>\n",
       "    </tr>\n",
       "    <tr>\n",
       "      <th>2019-12-13 00:00:00-05:00</th>\n",
       "      <td>112.80</td>\n",
       "      <td>317.28</td>\n",
       "    </tr>\n",
       "  </tbody>\n",
       "</table>\n",
       "</div>"
      ],
      "text/plain": [
       "                              AGG     SPY\n",
       "                            close   close\n",
       "time                                     \n",
       "2019-12-09 00:00:00-05:00  112.58  313.87\n",
       "2019-12-10 00:00:00-05:00  112.54  313.55\n",
       "2019-12-11 00:00:00-05:00  112.84  314.41\n",
       "2019-12-12 00:00:00-05:00  112.36  317.14\n",
       "2019-12-13 00:00:00-05:00  112.80  317.28"
      ]
     },
     "execution_count": 6,
     "metadata": {},
     "output_type": "execute_result"
    }
   ],
   "source": [
    "timeframe = '1D'\n",
    "\n",
    "current_date = datetime.now()\n",
    "start_date = current_date + timedelta(-365)\n",
    "#start_date = \"2019-05-01\"\n",
    "\n",
    "dataframe = apirequest.get_barset(list_of_tickers, timeframe, limit=None, start=start_date, end=current_date, after=None, until=None).df\n",
    "dataframe.drop(columns=[\"high\", \"low\", \"volume\", \"open\"], level=1, inplace=True)\n",
    "\n",
    "dataframe.head()\n",
    "#Note - could not get API to pull greater than 100 days of prices"
   ]
  },
  {
   "cell_type": "markdown",
   "metadata": {},
   "source": [
    "# Monte Carlo Simulation\n",
    "\n",
    "In this step, you will run Monte Carlo Simulations for your portfolio to model portfolio performance at different retirement ages. \n",
    "\n",
    "Complete the following steps:\n",
    "1. Calculate the daily returns for the SPY and AGG closing prices.\n",
    "2. Calculate volatility for both the SPY and AGG closing prices.\n",
    "3. Find the last day's closing price for both stocks and save those as variables.\n",
    "4. Run a Monte Carlo Simulation of at least 500 iterations and generate at least 30 years of closing prices\n",
    "\n",
    "### HINTS:\n",
    "There are 252 trading days per year, so the number of records to generate for each Monte Carlo run will be 252 days * 30 years"
   ]
  },
  {
   "cell_type": "code",
   "execution_count": 7,
   "metadata": {},
   "outputs": [
    {
     "name": "stdout",
     "output_type": "stream",
     "text": [
      "The average daily return for the Bloomberg Barclays Aggregate Bond Index is close    0.000417\n",
      "dtype: float64.\n",
      "The average daily return for the S&P 500 is close   -0.000579\n",
      "dtype: float64.\n"
     ]
    }
   ],
   "source": [
    "# Calculate the daily roi for the stocks\n",
    "daily_returns = dataframe.pct_change()\n",
    "agg_avg_daily_returns = daily_returns.mean()['AGG']\n",
    "spy_avg_daily_returns = daily_returns.mean()['SPY']\n",
    "print(f\"The average daily return for the Bloomberg Barclays Aggregate Bond Index is {agg_avg_daily_returns}.\")\n",
    "print(f\"The average daily return for the S&P 500 is {spy_avg_daily_returns}.\")"
   ]
  },
  {
   "cell_type": "code",
   "execution_count": 8,
   "metadata": {},
   "outputs": [
    {
     "name": "stdout",
     "output_type": "stream",
     "text": [
      "The standard deviation for the Bloomberg Barclays Aggregate Bond Index is 0.008496921890292091.\n",
      "Volatlity for the S&P 500 is 0.03086889737277217.\n"
     ]
    }
   ],
   "source": [
    "# Calculate volatility\n",
    "agg_std_daily_returns = daily_returns.std()['AGG']['close']\n",
    "spy_std_daily_returns = daily_returns.std()['SPY']['close']\n",
    "print(f\"The standard deviation for the Bloomberg Barclays Aggregate Bond Index is {agg_std_daily_returns}.\")\n",
    "print(f\"Volatlity for the S&P 500 is {spy_std_daily_returns}.\")"
   ]
  },
  {
   "cell_type": "code",
   "execution_count": 9,
   "metadata": {},
   "outputs": [
    {
     "name": "stdout",
     "output_type": "stream",
     "text": [
      "The final closing price for AGG is 116.9.\n",
      "The final closing price for SPY is 282.73.\n"
     ]
    }
   ],
   "source": [
    "# Save the last day's closing price\n",
    "closing_price_agg = dataframe['AGG']['close'][-1]\n",
    "closing_price_spy = dataframe['SPY']['close'][-1]\n",
    "print(f\"The final closing price for AGG is {closing_price_agg}.\")\n",
    "print(f\"The final closing price for SPY is {closing_price_spy}.\")"
   ]
  },
  {
   "cell_type": "code",
   "execution_count": 12,
   "metadata": {},
   "outputs": [],
   "source": [
    "# Setup the Monte Carlo Parameters\n",
    "number_simulations = 500\n",
    "number_records = 252 * 30\n",
    "montecarlo = pd.DataFrame()\n",
    "montecarlo_cumulative_returns = pd.DataFrame()"
   ]
  },
  {
   "cell_type": "code",
   "execution_count": 43,
   "metadata": {},
   "outputs": [
    {
     "data": {
      "text/html": [
       "<div>\n",
       "<style scoped>\n",
       "    .dataframe tbody tr th:only-of-type {\n",
       "        vertical-align: middle;\n",
       "    }\n",
       "\n",
       "    .dataframe tbody tr th {\n",
       "        vertical-align: top;\n",
       "    }\n",
       "\n",
       "    .dataframe thead th {\n",
       "        text-align: right;\n",
       "    }\n",
       "</style>\n",
       "<table border=\"1\" class=\"dataframe\">\n",
       "  <thead>\n",
       "    <tr style=\"text-align: right;\">\n",
       "      <th></th>\n",
       "      <th>0</th>\n",
       "      <th>1</th>\n",
       "      <th>2</th>\n",
       "      <th>3</th>\n",
       "      <th>4</th>\n",
       "      <th>5</th>\n",
       "      <th>6</th>\n",
       "      <th>7</th>\n",
       "      <th>8</th>\n",
       "      <th>9</th>\n",
       "      <th>...</th>\n",
       "      <th>490</th>\n",
       "      <th>491</th>\n",
       "      <th>492</th>\n",
       "      <th>493</th>\n",
       "      <th>494</th>\n",
       "      <th>495</th>\n",
       "      <th>496</th>\n",
       "      <th>497</th>\n",
       "      <th>498</th>\n",
       "      <th>499</th>\n",
       "    </tr>\n",
       "  </thead>\n",
       "  <tbody>\n",
       "    <tr>\n",
       "      <th>0</th>\n",
       "      <td>1.000000</td>\n",
       "      <td>1.000000</td>\n",
       "      <td>1.000000</td>\n",
       "      <td>1.000000</td>\n",
       "      <td>1.000000</td>\n",
       "      <td>1.000000</td>\n",
       "      <td>1.000000</td>\n",
       "      <td>1.000000</td>\n",
       "      <td>1.000000</td>\n",
       "      <td>1.000000</td>\n",
       "      <td>...</td>\n",
       "      <td>1.000000</td>\n",
       "      <td>1.000000</td>\n",
       "      <td>1.000000</td>\n",
       "      <td>1.000000</td>\n",
       "      <td>1.000000</td>\n",
       "      <td>1.000000</td>\n",
       "      <td>1.000000</td>\n",
       "      <td>1.000000</td>\n",
       "      <td>1.000000</td>\n",
       "      <td>1.000000</td>\n",
       "    </tr>\n",
       "    <tr>\n",
       "      <th>1</th>\n",
       "      <td>1.021957</td>\n",
       "      <td>0.970593</td>\n",
       "      <td>1.023612</td>\n",
       "      <td>0.994905</td>\n",
       "      <td>0.992967</td>\n",
       "      <td>0.991625</td>\n",
       "      <td>1.027502</td>\n",
       "      <td>0.981443</td>\n",
       "      <td>1.009181</td>\n",
       "      <td>0.992627</td>\n",
       "      <td>...</td>\n",
       "      <td>0.977036</td>\n",
       "      <td>0.995182</td>\n",
       "      <td>1.006289</td>\n",
       "      <td>1.004761</td>\n",
       "      <td>0.990757</td>\n",
       "      <td>1.049254</td>\n",
       "      <td>0.978284</td>\n",
       "      <td>1.035950</td>\n",
       "      <td>1.006357</td>\n",
       "      <td>0.995801</td>\n",
       "    </tr>\n",
       "    <tr>\n",
       "      <th>2</th>\n",
       "      <td>1.029925</td>\n",
       "      <td>0.975084</td>\n",
       "      <td>1.019655</td>\n",
       "      <td>1.012115</td>\n",
       "      <td>0.965961</td>\n",
       "      <td>0.965256</td>\n",
       "      <td>1.044182</td>\n",
       "      <td>0.983294</td>\n",
       "      <td>1.002280</td>\n",
       "      <td>1.000856</td>\n",
       "      <td>...</td>\n",
       "      <td>1.002023</td>\n",
       "      <td>0.996366</td>\n",
       "      <td>0.987644</td>\n",
       "      <td>0.990322</td>\n",
       "      <td>1.008324</td>\n",
       "      <td>1.031154</td>\n",
       "      <td>0.977400</td>\n",
       "      <td>1.044966</td>\n",
       "      <td>1.035690</td>\n",
       "      <td>0.979392</td>\n",
       "    </tr>\n",
       "    <tr>\n",
       "      <th>3</th>\n",
       "      <td>1.022578</td>\n",
       "      <td>0.975783</td>\n",
       "      <td>1.017247</td>\n",
       "      <td>1.033461</td>\n",
       "      <td>0.956383</td>\n",
       "      <td>0.958790</td>\n",
       "      <td>1.021332</td>\n",
       "      <td>1.015012</td>\n",
       "      <td>0.967681</td>\n",
       "      <td>0.995982</td>\n",
       "      <td>...</td>\n",
       "      <td>1.020406</td>\n",
       "      <td>0.995663</td>\n",
       "      <td>0.973031</td>\n",
       "      <td>0.987286</td>\n",
       "      <td>1.011203</td>\n",
       "      <td>1.021109</td>\n",
       "      <td>0.980885</td>\n",
       "      <td>1.056812</td>\n",
       "      <td>1.060733</td>\n",
       "      <td>0.958466</td>\n",
       "    </tr>\n",
       "    <tr>\n",
       "      <th>4</th>\n",
       "      <td>1.034137</td>\n",
       "      <td>0.947987</td>\n",
       "      <td>1.004724</td>\n",
       "      <td>1.002643</td>\n",
       "      <td>0.948009</td>\n",
       "      <td>0.934019</td>\n",
       "      <td>1.013976</td>\n",
       "      <td>1.009555</td>\n",
       "      <td>0.956781</td>\n",
       "      <td>0.943884</td>\n",
       "      <td>...</td>\n",
       "      <td>1.045620</td>\n",
       "      <td>0.973678</td>\n",
       "      <td>0.947656</td>\n",
       "      <td>0.972476</td>\n",
       "      <td>0.996009</td>\n",
       "      <td>1.027574</td>\n",
       "      <td>0.999660</td>\n",
       "      <td>1.071304</td>\n",
       "      <td>1.036794</td>\n",
       "      <td>0.937881</td>\n",
       "    </tr>\n",
       "  </tbody>\n",
       "</table>\n",
       "<p>5 rows × 500 columns</p>\n",
       "</div>"
      ],
      "text/plain": [
       "        0         1         2         3         4         5         6    \\\n",
       "0  1.000000  1.000000  1.000000  1.000000  1.000000  1.000000  1.000000   \n",
       "1  1.021957  0.970593  1.023612  0.994905  0.992967  0.991625  1.027502   \n",
       "2  1.029925  0.975084  1.019655  1.012115  0.965961  0.965256  1.044182   \n",
       "3  1.022578  0.975783  1.017247  1.033461  0.956383  0.958790  1.021332   \n",
       "4  1.034137  0.947987  1.004724  1.002643  0.948009  0.934019  1.013976   \n",
       "\n",
       "        7         8         9    ...       490       491       492       493  \\\n",
       "0  1.000000  1.000000  1.000000  ...  1.000000  1.000000  1.000000  1.000000   \n",
       "1  0.981443  1.009181  0.992627  ...  0.977036  0.995182  1.006289  1.004761   \n",
       "2  0.983294  1.002280  1.000856  ...  1.002023  0.996366  0.987644  0.990322   \n",
       "3  1.015012  0.967681  0.995982  ...  1.020406  0.995663  0.973031  0.987286   \n",
       "4  1.009555  0.956781  0.943884  ...  1.045620  0.973678  0.947656  0.972476   \n",
       "\n",
       "        494       495       496       497       498       499  \n",
       "0  1.000000  1.000000  1.000000  1.000000  1.000000  1.000000  \n",
       "1  0.990757  1.049254  0.978284  1.035950  1.006357  0.995801  \n",
       "2  1.008324  1.031154  0.977400  1.044966  1.035690  0.979392  \n",
       "3  1.011203  1.021109  0.980885  1.056812  1.060733  0.958466  \n",
       "4  0.996009  1.027574  0.999660  1.071304  1.036794  0.937881  \n",
       "\n",
       "[5 rows x 500 columns]"
      ]
     },
     "execution_count": 43,
     "metadata": {},
     "output_type": "execute_result"
    }
   ],
   "source": [
    "# Run the Monte Carlo Simulation\n",
    "for n in range(number_simulations):\n",
    "       \n",
    "    agg_prices = [closing_price_agg]\n",
    "    spy_prices = [closing_price_spy]\n",
    "    \n",
    "    for i in range(number_records):\n",
    "        \n",
    "        agg_price_sim = agg_prices[-1] * (1 + np.random.normal(agg_avg_daily_returns, agg_std_daily_returns))\n",
    "        spy_price_sim = spy_prices[-1] * (1 + np.random.normal(spy_avg_daily_returns, spy_std_daily_returns))\n",
    "        agg_prices.append(agg_price_sim)\n",
    "        spy_prices.append(spy_price_sim)\n",
    "\n",
    "    montecarlo['AGG prices'] = pd.Series(agg_prices)\n",
    "    montecarlo['SPY prices'] = pd.Series(spy_prices)\n",
    "    montecarlo_returns = montecarlo.pct_change()\n",
    "    montecarlo_returns = montecarlo_returns.astype(float)\n",
    "    \n",
    "    weights = [0.4, 0.6]\n",
    "    weighted_returns = montecarlo_returns.dot(weights)\n",
    "    montecarlo_cumulative_returns[n] = (1 + weighted_returns.fillna(0)).cumprod()\n",
    "\n",
    "montecarlo_cumulative_returns.head()"
   ]
  },
  {
   "cell_type": "code",
   "execution_count": 44,
   "metadata": {},
   "outputs": [
    {
     "data": {
      "text/plain": [
       "<matplotlib.axes._subplots.AxesSubplot at 0x18f06c0bd88>"
      ]
     },
     "execution_count": 44,
     "metadata": {},
     "output_type": "execute_result"
    },
    {
     "data": {
      "image/png": "[encoded data removed]",
      "text/plain": [
       "<Figure size 432x288 with 1 Axes>"
      ]
     },
     "metadata": {
      "needs_background": "light"
     },
     "output_type": "display_data"
    }
   ],
   "source": [
    "# Visualize the Simulation\n",
    "montecarlo_cumulative_returns.plot(legend=None, title=\"plot_title\")"
   ]
  },
  {
   "cell_type": "code",
   "execution_count": 45,
   "metadata": {},
   "outputs": [
    {
     "data": {
      "text/plain": [
       "0    0.064254\n",
       "1    0.041646\n",
       "2    0.046490\n",
       "3    0.016874\n",
       "4    0.045463\n",
       "Name: 7560, dtype: float64"
      ]
     },
     "execution_count": 45,
     "metadata": {},
     "output_type": "execute_result"
    }
   ],
   "source": [
    "# Select the last row for the cumulative returns (cumulative returns at 30 years)\n",
    "year30_returns = portfolio_cumulative_returns.iloc[-1]\n",
    "year30_returns.head()"
   ]
  },
  {
   "cell_type": "code",
   "execution_count": 46,
   "metadata": {},
   "outputs": [
    {
     "data": {
      "text/plain": [
       "0    0.159386\n",
       "1    0.120732\n",
       "2    0.076945\n",
       "3    0.049755\n",
       "4    0.628316\n",
       "Name: 5041, dtype: float64"
      ]
     },
     "execution_count": 46,
     "metadata": {},
     "output_type": "execute_result"
    }
   ],
   "source": [
    "# Select the last row for the cumulative returns (cumulative returns at 20 years)\n",
    "year20_returns = portfolio_cumulative_returns.iloc[-2520]\n",
    "year20_returns.head()"
   ]
  },
  {
   "cell_type": "code",
   "execution_count": 47,
   "metadata": {},
   "outputs": [
    {
     "data": {
      "text/plain": [
       "0.05    0.005306\n",
       "0.95    0.916161\n",
       "Name: 7560, dtype: float64"
      ]
     },
     "execution_count": 47,
     "metadata": {},
     "output_type": "execute_result"
    }
   ],
   "source": [
    "# Display the 90% confidence interval for the ending returns\n",
    "conf_int = year30_returns.quantile(q=[0.05, 0.95])\n",
    "conf_int"
   ]
  },
  {
   "cell_type": "code",
   "execution_count": 48,
   "metadata": {},
   "outputs": [
    {
     "data": {
      "text/plain": [
       "<matplotlib.axes._subplots.AxesSubplot at 0x18f131cb748>"
      ]
     },
     "execution_count": 48,
     "metadata": {},
     "output_type": "execute_result"
    },
    {
     "data": {
      "image/png": "[encoded data removed]",
      "text/plain": [
       "<Figure size 1440x360 with 1 Axes>"
      ]
     },
     "metadata": {
      "needs_background": "light"
     },
     "output_type": "display_data"
    }
   ],
   "source": [
    "# Visualize the distribution of the ending returns\n",
    "year30_returns.plot(kind='hist', density=True, bins=50, figsize=(20,5))"
   ]
  },
  {
   "cell_type": "markdown",
   "metadata": {},
   "source": [
    "---"
   ]
  },
  {
   "cell_type": "markdown",
   "metadata": {},
   "source": [
    "# Retirement Analysis\n",
    "\n",
    "In this section, you will use the monte carlo model to answer the following retirement planning questions:\n",
    "\n",
    "1. What are the expected cumulative returns at 30 years for the 10th, 50th, and 90th percentiles?\n",
    "2. Given an initial investment of `$20,000`, what is the expected portfolio return in dollars at the 10th, 50th, and 90th percentiles?\n",
    "3. Given the current projected annual income from the Plaid analysis, will a 4% withdraw rate from the retirement portfolio meet or exceed that value at the 10th percentile?\n",
    "4. How would a 50% increase in the initial investment amount affect the 4% retirement withdrawal?"
   ]
  },
  {
   "cell_type": "markdown",
   "metadata": {},
   "source": [
    "### What are the expected cumulative returns at 30 years for the 10th, 50th, and 90th percentiles?"
   ]
  },
  {
   "cell_type": "code",
   "execution_count": 49,
   "metadata": {},
   "outputs": [
    {
     "name": "stdout",
     "output_type": "stream",
     "text": [
      "The expected cumulative return at the 10th percentile is 0.9267637307671989%\n",
      "The expected cumulative return at the 50th percentile is 7.208821075271709%\n",
      "The expected cumulative return at the 90th percentile is 46.811441327691526%\n"
     ]
    }
   ],
   "source": [
    "# YOUR CODE HERE\n",
    "excum_returns = year30_returns.quantile(q=[0.1, 0.5, 0.9])\n",
    "\n",
    "\n",
    "print(f\"The expected cumulative return at the 10th percentile is {excum_returns[.1] * 100}%\")\n",
    "print(f\"The expected cumulative return at the 50th percentile is {excum_returns[.5] * 100}%\")\n",
    "print(f\"The expected cumulative return at the 90th percentile is {excum_returns[.9] * 100}%\")"
   ]
  },
  {
   "cell_type": "markdown",
   "metadata": {},
   "source": [
    "### Given an initial investment of `$20,000`, what is the expected portfolio return in dollars at the 10th, 50th, and 90th percentiles?"
   ]
  },
  {
   "cell_type": "code",
   "execution_count": 50,
   "metadata": {},
   "outputs": [
    {
     "name": "stdout",
     "output_type": "stream",
     "text": [
      "With an initial investment of $20000, the expected return at the 10th percentile over 30 years is $20185.35274615344\n",
      "With an initial investment of $20000, the expected return at the 10th percentile over 30 years is $21441.764215054343\n",
      "With an initial investment of $20000, the expected return at the 10th percentile over 30 years is $29362.288265538307\n"
     ]
    }
   ],
   "source": [
    "# YOUR CODE HERE\n",
    "\n",
    "investment = 20000\n",
    "\n",
    "\n",
    "\n",
    "                                                    \n",
    "# Print the results\n",
    "print(f\"With an initial investment of ${investment}, the expected return at the 10th percentile over 30 years is ${(investment * excum_returns[.1]) + investment}\")\n",
    "print(f\"With an initial investment of ${investment}, the expected return at the 10th percentile over 30 years is ${(investment * excum_returns[.5]) + investment}\")\n",
    "print(f\"With an initial investment of ${investment}, the expected return at the 10th percentile over 30 years is ${(investment * excum_returns[.9]) + investment}\")"
   ]
  },
  {
   "cell_type": "markdown",
   "metadata": {},
   "source": [
    "### Given the current projected annual income from the Plaid analysis, will a 4% withdraw rate from the retirement portfolio meet or exceed that value at the 10th percentile?\n",
    "\n",
    "Note: This is effectively saying that 90% of the expected returns will be greater than the return at the 10th percentile, so this can help measure the uncertainty about having enough funds at retirement"
   ]
  },
  {
   "cell_type": "code",
   "execution_count": 54,
   "metadata": {},
   "outputs": [
    {
     "name": "stdout",
     "output_type": "stream",
     "text": [
      "A 4% withdraw rate and initial investment of $20000 will provide an annual income of 807.4141098461376. This is less than the projected annual income of $6085.\n"
     ]
    }
   ],
   "source": [
    "# YOUR CODE HERE\n",
    "print(f\"A 4% withdraw rate and initial investment of ${investment} will provide an annual income of {((investment * excum_returns[.1]) + investment) *.04}. This is less than the projected annual income of $6085.\")"
   ]
  },
  {
   "cell_type": "markdown",
   "metadata": {},
   "source": [
    "### How would a 50% increase in the initial investment amount affect the 4% retirement withdrawal?"
   ]
  },
  {
   "cell_type": "code",
   "execution_count": 59,
   "metadata": {},
   "outputs": [
    {
     "name": "stdout",
     "output_type": "stream",
     "text": [
      "A 4% withdraw rate and initial investment of $30000.0 will provide an annual income of 1211.1211647692064. This is less than the projected annual income of $6085.\n"
     ]
    }
   ],
   "source": [
    "# YOUR CODE HERE\n",
    "print(f\"A 4% withdraw rate and initial investment of ${investment * 1.5} will provide an annual income of {(((investment * 1.5) * excum_returns[.1]) + (investment * 1.5)) *.04}. This is less than the projected annual income of $6085.\")\n",
    "\n",
    "# Note - Using the previous 100 days of price history which was available through Alpaca has produced historically volatile and low results for a 100-day period. \n",
    "# Using a larger set of data would improve these results and likely allow for an outcome where the 4% withdrawal rate would be viable. "
   ]
  },
  {
   "cell_type": "markdown",
   "metadata": {},
   "source": [
    "### Optional Challenge\n",
    "\n",
    "In this section, you will calculate and plot the cumulative returns for the median and 90% confidence intervals. This plot shows the expected cumulative returns for any given day between the first day and the last day of investment. "
   ]
  },
  {
   "cell_type": "code",
   "execution_count": null,
   "metadata": {},
   "outputs": [],
   "source": [
    "# YOUR CODE HERE"
   ]
  }
 ],
 "metadata": {
  "kernel_info": {
   "name": "dev"
  },
  "kernelspec": {
   "display_name": "Python 3",
   "language": "python",
   "name": "python3"
  },
  "language_info": {
   "codemirror_mode": {
    "name": "ipython",
    "version": 3
   },
   "file_extension": ".py",
   "mimetype": "text/x-python",
   "name": "python",
   "nbconvert_exporter": "python",
   "pygments_lexer": "ipython3",
   "version": "3.7.7"
  },
  "nteract": {
   "version": "0.12.3"
  }
 },
 "nbformat": 4,
 "nbformat_minor": 4
}
